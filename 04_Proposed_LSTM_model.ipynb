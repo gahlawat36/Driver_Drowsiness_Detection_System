{
 "cells": [
  {
   "cell_type": "markdown",
   "metadata": {},
   "source": [
    "- Pradeep Gahlawat\n",
    "- 10524011\n",
    "- Driver drowsiness detection system\n",
    "- file 4/4 (Proposed model LSTM)"
   ]
  },
  {
   "cell_type": "code",
   "execution_count": 1,
   "metadata": {},
   "outputs": [
    {
     "name": "stderr",
     "output_type": "stream",
     "text": [
      "Using TensorFlow backend.\n"
     ]
    }
   ],
   "source": [
    "# import used libraries and fucntions\n",
    "import warnings\n",
    "warnings.filterwarnings(\"ignore\")\n",
    "\n",
    "import numpy as np\n",
    "import pandas as pd\n",
    "import matplotlib.pyplot as plt\n",
    "import random\n",
    "from keras.utils import to_categorical\n",
    "from keras.layers import Dense, Flatten, Dropout, ZeroPadding3D\n",
    "from keras.layers.recurrent import LSTM\n",
    "from keras.models import Sequential, load_model\n",
    "from keras.optimizers import Adam, RMSprop\n",
    "from keras.layers.wrappers import TimeDistributed\n",
    "from keras.layers.convolutional import (Conv2D, MaxPooling3D, Conv3D,MaxPooling2D)\n",
    "from collections import deque\n",
    "import sys\n",
    "import seaborn as sb\n",
    "from sklearn.metrics import confusion_matrix\n",
    "from sklearn.metrics import roc_curve, roc_auc_score, f1_score\n",
    "from sklearn.metrics import accuracy_score\n",
    "from sklearn import metrics"
   ]
  },
  {
   "cell_type": "markdown",
   "metadata": {},
   "source": [
    "## Data Collection"
   ]
  },
  {
   "cell_type": "code",
   "execution_count": 2,
   "metadata": {},
   "outputs": [],
   "source": [
    "# Collect normalised data for both classes \n",
    "df_alert = pd.read_csv('normalised_alert.csv', index_col=None, header=0)\n",
    "df_drowsy = pd.read_csv('normalised_drowsy.csv', index_col=None, header= 0)\n",
    "df = pd.concat([df_alert, df_drowsy], axis=0, join='inner', ignore_index=True)\n",
    "\n",
    "# aggregate entire data based on subject number to randomly shuffle subjects\n",
    "groups = [df for _, df in df.groupby('Subject')]\n",
    "random.shuffle(groups)\n",
    "df = pd.concat(groups).reset_index(drop=True)"
   ]
  },
  {
   "cell_type": "markdown",
   "metadata": {},
   "source": [
    "## Split dataset into train and test sets"
   ]
  },
  {
   "cell_type": "code",
   "execution_count": 3,
   "metadata": {
    "tags": []
   },
   "outputs": [
    {
     "name": "stdout",
     "output_type": "stream",
     "text": [
      "Total subjects in train set: 20\n",
      "Total subjects in test set: 7\n"
     ]
    }
   ],
   "source": [
    "# Setting train and test index to split data into roughly 3:1 ratio for train and test respectively.\n",
    "train_index = 9600\n",
    "test_index = len(df)-train_index\n",
    "df_train = df[:train_index]\n",
    "df_test = df[-test_index:]\n",
    "\n",
    "# print total number of subjects in both train and test data\n",
    "Total_subjects = len(df_train['Subject'].value_counts())\n",
    "print('Total subjects in train set: {0}'.format(Total_subjects))\n",
    "Total_subjects = len(df_test['Subject'].value_counts())\n",
    "print('Total subjects in test set: {0}'.format(Total_subjects))"
   ]
  },
  {
   "cell_type": "code",
   "execution_count": 4,
   "metadata": {},
   "outputs": [],
   "source": [
    "# # saving test and train data for future use\n",
    "# df_train.to_csv('df_train_for_LSTM_7Features.csv',index=False, header = True)\n",
    "# df_test.to_csv('df_test_for_LSTM_7Features.csv',index=False, header = True)"
   ]
  },
  {
   "cell_type": "code",
   "execution_count": 5,
   "metadata": {
    "tags": []
   },
   "outputs": [
    {
     "name": "stdout",
     "output_type": "stream",
     "text": [
      "(9600, 7) (9600,)\n",
      "(3360, 7) (3360,)\n"
     ]
    }
   ],
   "source": [
    "# get features matrix and labels vector for both train and test data\n",
    "X_train = df_train[['EAR', 'MAR', 'CIR', 'MOE', 'PITCH', 'ROLL', 'YAW']]\n",
    "y_train = df_train['Label']\n",
    "print(X_train.shape, y_train.shape)\n",
    "\n",
    "X_test = df_test[['EAR', 'MAR', 'CIR', 'MOE', 'PITCH', 'ROLL', 'YAW']]\n",
    "y_test = df_test[\"Label\"]\n",
    "print(X_test.shape, y_test.shape)"
   ]
  },
  {
   "cell_type": "markdown",
   "metadata": {},
   "source": [
    "### Transform shape of the input data "
   ]
  },
  {
   "cell_type": "code",
   "execution_count": 6,
   "metadata": {},
   "outputs": [
    {
     "name": "stdout",
     "output_type": "stream",
     "text": [
      "(1920, 5, 7)\n",
      "(672, 5, 7)\n"
     ]
    }
   ],
   "source": [
    "# transform feature matrix shape to 3 dimensions for LSTM layer\n",
    "X_train_new  = np.array(X_train).reshape(1920,5,7)\n",
    "print(X_train_new.shape)\n",
    "X_test_new  = np.array(X_test).reshape(672,5,7)\n",
    "print(X_test_new.shape)"
   ]
  },
  {
   "cell_type": "code",
   "execution_count": 7,
   "metadata": {},
   "outputs": [
    {
     "name": "stdout",
     "output_type": "stream",
     "text": [
      "(1920, 1)\n",
      "(672, 1)\n"
     ]
    }
   ],
   "source": [
    "# similarly, transform labels shape to match batch size (5)\n",
    "y_train = np.array(y_train)\n",
    "y_train_new  = []\n",
    "for i in range(0, len(y_train), 5):\n",
    "    y_train_new.append([y_train[i]])\n",
    "y_train_new = np.array(y_train_new)\n",
    "print(y_train_new.shape)\n",
    "\n",
    "y_test = np.array(y_test)\n",
    "y_test_new  = []\n",
    "for i in range(0, len(y_test), 5):\n",
    "    y_test_new.append([y_test[i]])\n",
    "y_test_new = np.array(y_test_new)\n",
    "print(y_test_new.shape)"
   ]
  },
  {
   "cell_type": "markdown",
   "metadata": {},
   "source": [
    "## Long Short Term Memory "
   ]
  },
  {
   "cell_type": "markdown",
   "metadata": {},
   "source": [
    "### Training"
   ]
  },
  {
   "cell_type": "code",
   "execution_count": 8,
   "metadata": {},
   "outputs": [
    {
     "name": "stdout",
     "output_type": "stream",
     "text": [
      "Train on 1920 samples, validate on 672 samples\n",
      "Epoch 1/50\n",
      "1920/1920 [==============================] - 11s 6ms/step - loss: 1.8392 - accuracy: 0.5083 - val_loss: 0.6614 - val_accuracy: 0.6176\n",
      "Epoch 2/50\n",
      "1920/1920 [==============================] - 10s 5ms/step - loss: 1.1256 - accuracy: 0.5464 - val_loss: 0.6460 - val_accuracy: 0.6429\n",
      "Epoch 3/50\n",
      "1920/1920 [==============================] - 8s 4ms/step - loss: 1.2451 - accuracy: 0.5318 - val_loss: 1.0249 - val_accuracy: 0.5000\n",
      "Epoch 4/50\n",
      "1920/1920 [==============================] - 8s 4ms/step - loss: 1.2845 - accuracy: 0.5047 - val_loss: 0.6738 - val_accuracy: 0.6071\n",
      "Epoch 5/50\n",
      "1920/1920 [==============================] - 8s 4ms/step - loss: 1.1272 - accuracy: 0.5307 - val_loss: 0.6702 - val_accuracy: 0.6146\n",
      "Epoch 6/50\n",
      "1920/1920 [==============================] - 8s 4ms/step - loss: 1.0444 - accuracy: 0.5234 - val_loss: 0.6332 - val_accuracy: 0.6205\n",
      "Epoch 7/50\n",
      "1920/1920 [==============================] - 8s 4ms/step - loss: 0.9479 - accuracy: 0.5521 - val_loss: 0.6429 - val_accuracy: 0.6369\n",
      "Epoch 8/50\n",
      "1920/1920 [==============================] - 8s 4ms/step - loss: 0.9935 - accuracy: 0.5510 - val_loss: 0.6196 - val_accuracy: 0.6220\n",
      "Epoch 9/50\n",
      "1920/1920 [==============================] - 10s 5ms/step - loss: 0.8917 - accuracy: 0.5651 - val_loss: 0.6856 - val_accuracy: 0.6280\n",
      "Epoch 10/50\n",
      "1920/1920 [==============================] - 8s 4ms/step - loss: 0.8584 - accuracy: 0.5849 - val_loss: 0.5972 - val_accuracy: 0.6533\n",
      "Epoch 11/50\n",
      "1920/1920 [==============================] - 8s 4ms/step - loss: 0.8473 - accuracy: 0.5995 - val_loss: 0.6256 - val_accuracy: 0.6324\n",
      "Epoch 12/50\n",
      "1920/1920 [==============================] - 9s 5ms/step - loss: 0.8947 - accuracy: 0.5776 - val_loss: 0.6315 - val_accuracy: 0.6310\n",
      "Epoch 13/50\n",
      "1920/1920 [==============================] - 10s 5ms/step - loss: 0.8844 - accuracy: 0.6057 - val_loss: 0.5991 - val_accuracy: 0.6503\n",
      "Epoch 14/50\n",
      "1920/1920 [==============================] - 12s 6ms/step - loss: 1.2129 - accuracy: 0.5302 - val_loss: 0.6252 - val_accuracy: 0.6369\n",
      "Epoch 15/50\n",
      "1920/1920 [==============================] - 16s 8ms/step - loss: 1.0427 - accuracy: 0.5391 - val_loss: 0.6253 - val_accuracy: 0.6354\n",
      "Epoch 16/50\n",
      "1920/1920 [==============================] - 16s 9ms/step - loss: 0.8491 - accuracy: 0.5958 - val_loss: 0.6120 - val_accuracy: 0.6488\n",
      "Epoch 17/50\n",
      "1920/1920 [==============================] - 12s 6ms/step - loss: 0.9472 - accuracy: 0.5708 - val_loss: 0.5899 - val_accuracy: 0.6815\n",
      "Epoch 18/50\n",
      "1920/1920 [==============================] - 14s 7ms/step - loss: 0.8033 - accuracy: 0.6000 - val_loss: 0.5838 - val_accuracy: 0.6935\n",
      "Epoch 19/50\n",
      "1920/1920 [==============================] - 12s 6ms/step - loss: 0.9213 - accuracy: 0.5698 - val_loss: 0.6287 - val_accuracy: 0.6295\n",
      "Epoch 20/50\n",
      "1920/1920 [==============================] - 12s 6ms/step - loss: 0.8039 - accuracy: 0.6052 - val_loss: 0.6003 - val_accuracy: 0.6548\n",
      "Epoch 21/50\n",
      "1920/1920 [==============================] - 11s 6ms/step - loss: 0.8332 - accuracy: 0.5854 - val_loss: 0.5876 - val_accuracy: 0.6771\n",
      "Epoch 22/50\n",
      "1920/1920 [==============================] - 17s 9ms/step - loss: 0.7818 - accuracy: 0.6219 - val_loss: 0.6014 - val_accuracy: 0.6652\n",
      "Epoch 23/50\n",
      "1920/1920 [==============================] - 11s 6ms/step - loss: 0.7847 - accuracy: 0.6307 - val_loss: 0.6171 - val_accuracy: 0.6592\n",
      "Epoch 24/50\n",
      "1920/1920 [==============================] - 11s 6ms/step - loss: 0.7922 - accuracy: 0.6245 - val_loss: 0.5853 - val_accuracy: 0.6845\n",
      "Epoch 25/50\n",
      "1920/1920 [==============================] - 11s 6ms/step - loss: 0.7939 - accuracy: 0.5953 - val_loss: 0.5860 - val_accuracy: 0.6786\n",
      "Epoch 26/50\n",
      "1920/1920 [==============================] - 11s 6ms/step - loss: 0.8039 - accuracy: 0.5969 - val_loss: 0.5967 - val_accuracy: 0.6726\n",
      "Epoch 27/50\n",
      "1920/1920 [==============================] - 10s 5ms/step - loss: 0.7683 - accuracy: 0.6068 - val_loss: 0.5828 - val_accuracy: 0.6845\n",
      "Epoch 28/50\n",
      "1920/1920 [==============================] - 11s 6ms/step - loss: 0.7500 - accuracy: 0.6151 - val_loss: 0.5799 - val_accuracy: 0.6860\n",
      "Epoch 29/50\n",
      "1920/1920 [==============================] - 12s 6ms/step - loss: 0.7598 - accuracy: 0.6292 - val_loss: 0.5997 - val_accuracy: 0.6979\n",
      "Epoch 30/50\n",
      "1920/1920 [==============================] - 10s 5ms/step - loss: 0.7537 - accuracy: 0.6339 - val_loss: 0.5859 - val_accuracy: 0.6949\n",
      "Epoch 31/50\n",
      "1920/1920 [==============================] - 10s 5ms/step - loss: 0.7162 - accuracy: 0.6323 - val_loss: 0.5987 - val_accuracy: 0.6890\n",
      "Epoch 32/50\n",
      "1920/1920 [==============================] - 10s 5ms/step - loss: 0.7428 - accuracy: 0.6214 - val_loss: 0.5653 - val_accuracy: 0.7024\n",
      "Epoch 33/50\n",
      "1920/1920 [==============================] - 9s 5ms/step - loss: 0.7361 - accuracy: 0.6448 - val_loss: 0.5793 - val_accuracy: 0.6979\n",
      "Epoch 34/50\n",
      "1920/1920 [==============================] - 10s 5ms/step - loss: 0.6829 - accuracy: 0.6375 - val_loss: 0.5972 - val_accuracy: 0.7068\n",
      "Epoch 35/50\n",
      "1920/1920 [==============================] - 10s 5ms/step - loss: 0.6712 - accuracy: 0.6479 - val_loss: 0.5875 - val_accuracy: 0.7009\n",
      "Epoch 36/50\n",
      "1920/1920 [==============================] - 9s 5ms/step - loss: 0.6949 - accuracy: 0.6427 - val_loss: 0.6025 - val_accuracy: 0.7039\n",
      "Epoch 37/50\n",
      "1920/1920 [==============================] - 10s 5ms/step - loss: 0.6936 - accuracy: 0.6224 - val_loss: 0.5549 - val_accuracy: 0.7039\n",
      "Epoch 38/50\n",
      "1920/1920 [==============================] - 11s 6ms/step - loss: 0.6930 - accuracy: 0.6438 - val_loss: 0.5877 - val_accuracy: 0.7143\n",
      "Epoch 39/50\n",
      "1920/1920 [==============================] - 13s 7ms/step - loss: 0.7014 - accuracy: 0.6604 - val_loss: 0.6206 - val_accuracy: 0.7009\n",
      "Epoch 40/50\n",
      "1920/1920 [==============================] - 14s 7ms/step - loss: 0.6570 - accuracy: 0.6594 - val_loss: 0.5808 - val_accuracy: 0.7158\n",
      "Epoch 41/50\n",
      "1920/1920 [==============================] - 14s 7ms/step - loss: 0.8686 - accuracy: 0.6099 - val_loss: 0.5819 - val_accuracy: 0.7054\n",
      "Epoch 42/50\n",
      "1920/1920 [==============================] - 14s 7ms/step - loss: 0.7399 - accuracy: 0.6432 - val_loss: 0.5672 - val_accuracy: 0.7143\n",
      "Epoch 43/50\n",
      "1920/1920 [==============================] - 15s 8ms/step - loss: 0.6366 - accuracy: 0.6734 - val_loss: 0.5816 - val_accuracy: 0.7098\n",
      "Epoch 44/50\n",
      "1920/1920 [==============================] - 15s 8ms/step - loss: 0.6077 - accuracy: 0.6938 - val_loss: 0.6211 - val_accuracy: 0.7247\n",
      "Epoch 45/50\n",
      "1920/1920 [==============================] - 14s 8ms/step - loss: 0.6464 - accuracy: 0.6833 - val_loss: 0.6206 - val_accuracy: 0.7351\n",
      "Epoch 46/50\n",
      "1920/1920 [==============================] - 15s 8ms/step - loss: 0.6120 - accuracy: 0.7005 - val_loss: 0.5943 - val_accuracy: 0.7589\n",
      "Epoch 47/50\n",
      "1920/1920 [==============================] - 15s 8ms/step - loss: 0.6072 - accuracy: 0.7089 - val_loss: 0.6097 - val_accuracy: 0.7530\n",
      "Epoch 48/50\n",
      "1920/1920 [==============================] - 13s 7ms/step - loss: 0.5973 - accuracy: 0.7141 - val_loss: 0.5767 - val_accuracy: 0.7649\n",
      "Epoch 49/50\n",
      "1920/1920 [==============================] - 8s 4ms/step - loss: 0.6576 - accuracy: 0.6891 - val_loss: 0.5506 - val_accuracy: 0.7679\n",
      "Epoch 50/50\n",
      "1920/1920 [==============================] - 9s 5ms/step - loss: 0.6360 - accuracy: 0.6776 - val_loss: 0.5884 - val_accuracy: 0.7649\n"
     ]
    },
    {
     "data": {
      "text/plain": [
       "<keras.callbacks.callbacks.History at 0x24e7a03f2c8>"
      ]
     },
     "execution_count": 8,
     "metadata": {},
     "output_type": "execute_result"
    }
   ],
   "source": [
    "metrics = ['accuracy']\n",
    "model = Sequential()\n",
    "model.add(Dense(1024, activation ='sigmoid'))\n",
    "model.add(LSTM(512, return_sequences = True, input_shape = (5, 7,),dropout = 0.5))\n",
    "\n",
    "model.add(Flatten())\n",
    "model.add(Dense(256, activation='sigmoid')) #FC1\n",
    "model.add(Dense(32, activation='tanh')) #FC2\n",
    "model.add(Dropout(0.5))\n",
    "model.add(Dense(16, activation='relu'))#FC3\n",
    "model.add(Dropout(0.5))\n",
    "model.add(Dense(1, activation='tanh'))#Output Layer\n",
    "optimizer = Adam(lr=0.00005)\n",
    "model.compile(loss='binary_crossentropy', optimizer=optimizer, metrics= metrics)\n",
    "model.fit(X_train_new, y_train_new, validation_data = (X_test_new,y_test_new), epochs=50, batch_size=  5)"
   ]
  },
  {
   "cell_type": "markdown",
   "metadata": {},
   "source": [
    "### Evaluation"
   ]
  },
  {
   "cell_type": "code",
   "execution_count": 9,
   "metadata": {},
   "outputs": [],
   "source": [
    "# get predictions and predicted probabilities for evaluation\n",
    "y_test_predicted = model.predict_classes(X_test_new)\n",
    "y_train_predicted = model.predict_classes(X_train_new)  \n",
    "\n",
    "y_test_predicted_prob = model.predict_proba(X_test_new)\n",
    "y_train_predicted_prob = model.predict_proba(X_train_new)"
   ]
  },
  {
   "cell_type": "code",
   "execution_count": 10,
   "metadata": {},
   "outputs": [
    {
     "data": {
      "text/plain": [
       "Text(0.5, 0, 'False Positive Rate')"
      ]
     },
     "execution_count": 10,
     "metadata": {},
     "output_type": "execute_result"
    },
    {
     "data": {
      "image/png": "[encoded data removed]",
      "text/plain": [
       "<Figure size 504x432 with 1 Axes>"
      ]
     },
     "metadata": {
      "needs_background": "light"
     },
     "output_type": "display_data"
    }
   ],
   "source": [
    "# ROC and AUC value on train data\n",
    "plt.figure(figsize=(7,6))\n",
    "fpr, tpr, threshold = roc_curve(y_train_new, y_train_predicted_prob)\n",
    "roc_auc_train = roc_auc_score(y_train_new, y_train_predicted_prob)\n",
    "plt.plot(fpr, tpr, 'r', label = 'Train AUC = %0.2f' % roc_auc_train)\n",
    "plt.legend(loc = 'lower right')\n",
    "\n",
    "# ROC and AUC value on test data\n",
    "fpr, tpr, threshold = roc_curve(y_test_new, y_test_predicted_prob)\n",
    "roc_auc_test = roc_auc_score(y_test_new, y_test_predicted_prob)\n",
    "plt.plot(fpr, tpr, 'g', label = 'Test AUC = %0.2f' % roc_auc_test)\n",
    "plt.legend(loc = 'lower right')\n",
    "\n",
    "plt.plot([0, 1], [0, 1],'b--')\n",
    "plt.title('ROC for Train and CV Data', size = 15)\n",
    "plt.xlim([0, 1])\n",
    "plt.ylim([0, 1])\n",
    "plt.ylabel('True Positive Rate')\n",
    "plt.xlabel('False Positive Rate')    "
   ]
  },
  {
   "cell_type": "code",
   "execution_count": 11,
   "metadata": {},
   "outputs": [
    {
     "data": {
      "image/png": "[encoded data removed]",
      "text/plain": [
       "<Figure size 864x360 with 4 Axes>"
      ]
     },
     "metadata": {
      "needs_background": "light"
     },
     "output_type": "display_data"
    }
   ],
   "source": [
    "# plot confusion matrix on train data\n",
    "fig = plt.figure(figsize=(12,5))\n",
    "ax1 = fig.add_subplot(121)\n",
    "ax1.title.set_text('Confusion matrix on Train data')\n",
    "conf_matrix_train = confusion_matrix(y_train_new, y_train_predicted)\n",
    "class_label = ['negative', 'positive']\n",
    "df_conf_matrix = pd.DataFrame(conf_matrix_train, index=class_label, columns=class_label)\n",
    "sb.heatmap(df_conf_matrix, annot=True, fmt='d')\n",
    "# plot confusion matrix on test data\n",
    "ax2 = fig.add_subplot(122)\n",
    "ax2.title.set_text('Confusion matrix on Test data')\n",
    "conf_matrix_test = confusion_matrix(y_test_new, y_test_predicted)\n",
    "df_conf_matrix = pd.DataFrame(conf_matrix_test, index=class_label, columns=class_label)\n",
    "sb.heatmap(df_conf_matrix, annot=True, fmt='d')\n",
    "plt.show()"
   ]
  },
  {
   "cell_type": "code",
   "execution_count": 12,
   "metadata": {},
   "outputs": [
    {
     "name": "stdout",
     "output_type": "stream",
     "text": [
      "Accuracy: 0.7648809523809523\n",
      "Precision: 0.7445054945054945\n",
      "Recall: 0.8065476190476191\n",
      "F1_score: 0.7742857142857142\n"
     ]
    }
   ],
   "source": [
    "from sklearn import metrics\n",
    "# Model Accuracy: how often is the classifier correct?\n",
    "print(\"Accuracy:\", accuracy_score(y_test_new, y_test_predicted))\n",
    "# Model Precision: what percentage of positive tuples are labeled as such?\n",
    "print(\"Precision:\", metrics.precision_score(y_test_new, y_test_predicted))\n",
    "# Model Recall: what percentage of positive tuples are labelled as such?\n",
    "print(\"Recall:\", metrics.recall_score(y_test_new, y_test_predicted))\n",
    "# Model Recall: what percentage of positive tuples are labelled as such?\n",
    "print(\"F1_score:\", f1_score(y_test_new, np.array(y_test_predicted)))"
   ]
  },
  {
   "cell_type": "code",
   "execution_count": null,
   "metadata": {},
   "outputs": [],
   "source": []
  }
 ],
 "metadata": {
  "kernelspec": {
   "display_name": "Python 3",
   "language": "python",
   "name": "python3"
  },
  "language_info": {
   "codemirror_mode": {
    "name": "ipython",
    "version": 3
   },
   "file_extension": ".py",
   "mimetype": "text/x-python",
   "name": "python",
   "nbconvert_exporter": "python",
   "pygments_lexer": "ipython3",
   "version": "3.7.7"
  }
 },
 "nbformat": 4,
 "nbformat_minor": 4
}
