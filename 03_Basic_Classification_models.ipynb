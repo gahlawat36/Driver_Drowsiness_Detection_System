{
 "cells": [
  {
   "cell_type": "markdown",
   "metadata": {},
   "source": [
    "- Pradeep Gahlawat\n",
    "- 10524011\n",
    "- Driver drowsiness detection system\n",
    "- file 3/4 (Baseline models: SVM and MLP)"
   ]
  },
  {
   "cell_type": "code",
   "execution_count": 1,
   "metadata": {},
   "outputs": [],
   "source": [
    "# used libraries and functions.\n",
    "import warnings\n",
    "import pandas as pd\n",
    "import seaborn as sns\n",
    "import glob\n",
    "import random\n",
    "from sklearn.preprocessing import StandardScaler\n",
    "from sklearn.model_selection import RandomizedSearchCV\n",
    "from sklearn.model_selection import GridSearchCV\n",
    "from sklearn.model_selection import RepeatedStratifiedKFold\n",
    "from sklearn.svm import SVC\n",
    "from sklearn.neural_network import MLPClassifier\n",
    "import seaborn as sb\n",
    "import matplotlib.pyplot as plt\n",
    "from sklearn import metrics\n",
    "from sklearn.metrics import roc_curve, auc\n",
    "from sklearn.metrics import confusion_matrix\n",
    "from sklearn.metrics import accuracy_score\n",
    "from sklearn.metrics import classification_report"
   ]
  },
  {
   "cell_type": "markdown",
   "metadata": {},
   "source": [
    "## Data Collection and Validation"
   ]
  },
  {
   "cell_type": "code",
   "execution_count": 2,
   "metadata": {},
   "outputs": [
    {
     "data": {
      "text/html": [
       "<div>\n",
       "<style scoped>\n",
       "    .dataframe tbody tr th:only-of-type {\n",
       "        vertical-align: middle;\n",
       "    }\n",
       "\n",
       "    .dataframe tbody tr th {\n",
       "        vertical-align: top;\n",
       "    }\n",
       "\n",
       "    .dataframe thead th {\n",
       "        text-align: right;\n",
       "    }\n",
       "</style>\n",
       "<table border=\"1\" class=\"dataframe\">\n",
       "  <thead>\n",
       "    <tr style=\"text-align: right;\">\n",
       "      <th></th>\n",
       "      <th>EAR</th>\n",
       "      <th>MAR</th>\n",
       "      <th>CIR</th>\n",
       "      <th>MOE</th>\n",
       "      <th>PITCH</th>\n",
       "      <th>ROLL</th>\n",
       "      <th>YAW</th>\n",
       "      <th>Subject</th>\n",
       "      <th>Label</th>\n",
       "    </tr>\n",
       "  </thead>\n",
       "  <tbody>\n",
       "    <tr>\n",
       "      <th>count</th>\n",
       "      <td>6480.000000</td>\n",
       "      <td>6480.000000</td>\n",
       "      <td>6480.000000</td>\n",
       "      <td>6480.000000</td>\n",
       "      <td>6480.000000</td>\n",
       "      <td>6480.000000</td>\n",
       "      <td>6480.000000</td>\n",
       "      <td>6480.000000</td>\n",
       "      <td>6480.0</td>\n",
       "    </tr>\n",
       "    <tr>\n",
       "      <th>mean</th>\n",
       "      <td>-1.114148</td>\n",
       "      <td>0.348405</td>\n",
       "      <td>-1.016265</td>\n",
       "      <td>2.426901</td>\n",
       "      <td>-11.350358</td>\n",
       "      <td>-0.292324</td>\n",
       "      <td>1.583531</td>\n",
       "      <td>32.333333</td>\n",
       "      <td>0.0</td>\n",
       "    </tr>\n",
       "    <tr>\n",
       "      <th>std</th>\n",
       "      <td>9.874432</td>\n",
       "      <td>6.253053</td>\n",
       "      <td>6.496300</td>\n",
       "      <td>9.827736</td>\n",
       "      <td>5.396723</td>\n",
       "      <td>3.149570</td>\n",
       "      <td>9.416338</td>\n",
       "      <td>16.963140</td>\n",
       "      <td>0.0</td>\n",
       "    </tr>\n",
       "    <tr>\n",
       "      <th>min</th>\n",
       "      <td>-264.817526</td>\n",
       "      <td>-208.721176</td>\n",
       "      <td>-75.838571</td>\n",
       "      <td>-19.431376</td>\n",
       "      <td>-84.809831</td>\n",
       "      <td>-21.120917</td>\n",
       "      <td>-35.120723</td>\n",
       "      <td>2.000000</td>\n",
       "      <td>0.0</td>\n",
       "    </tr>\n",
       "    <tr>\n",
       "      <th>25%</th>\n",
       "      <td>-2.254613</td>\n",
       "      <td>-1.223197</td>\n",
       "      <td>-1.273845</td>\n",
       "      <td>-0.891324</td>\n",
       "      <td>-14.782821</td>\n",
       "      <td>-1.862237</td>\n",
       "      <td>-5.090220</td>\n",
       "      <td>17.000000</td>\n",
       "      <td>0.0</td>\n",
       "    </tr>\n",
       "    <tr>\n",
       "      <th>50%</th>\n",
       "      <td>0.082433</td>\n",
       "      <td>0.174717</td>\n",
       "      <td>0.145718</td>\n",
       "      <td>-0.023899</td>\n",
       "      <td>-10.892913</td>\n",
       "      <td>-0.387182</td>\n",
       "      <td>1.248965</td>\n",
       "      <td>34.000000</td>\n",
       "      <td>0.0</td>\n",
       "    </tr>\n",
       "    <tr>\n",
       "      <th>75%</th>\n",
       "      <td>1.107218</td>\n",
       "      <td>1.871034</td>\n",
       "      <td>1.155580</td>\n",
       "      <td>2.606994</td>\n",
       "      <td>-7.575725</td>\n",
       "      <td>1.295315</td>\n",
       "      <td>7.879274</td>\n",
       "      <td>50.000000</td>\n",
       "      <td>0.0</td>\n",
       "    </tr>\n",
       "    <tr>\n",
       "      <th>max</th>\n",
       "      <td>103.888692</td>\n",
       "      <td>184.692094</td>\n",
       "      <td>15.272632</td>\n",
       "      <td>235.709706</td>\n",
       "      <td>34.842207</td>\n",
       "      <td>25.532045</td>\n",
       "      <td>33.427154</td>\n",
       "      <td>59.000000</td>\n",
       "      <td>0.0</td>\n",
       "    </tr>\n",
       "  </tbody>\n",
       "</table>\n",
       "</div>"
      ],
      "text/plain": [
       "               EAR          MAR          CIR          MOE        PITCH  \\\n",
       "count  6480.000000  6480.000000  6480.000000  6480.000000  6480.000000   \n",
       "mean     -1.114148     0.348405    -1.016265     2.426901   -11.350358   \n",
       "std       9.874432     6.253053     6.496300     9.827736     5.396723   \n",
       "min    -264.817526  -208.721176   -75.838571   -19.431376   -84.809831   \n",
       "25%      -2.254613    -1.223197    -1.273845    -0.891324   -14.782821   \n",
       "50%       0.082433     0.174717     0.145718    -0.023899   -10.892913   \n",
       "75%       1.107218     1.871034     1.155580     2.606994    -7.575725   \n",
       "max     103.888692   184.692094    15.272632   235.709706    34.842207   \n",
       "\n",
       "              ROLL          YAW      Subject   Label  \n",
       "count  6480.000000  6480.000000  6480.000000  6480.0  \n",
       "mean     -0.292324     1.583531    32.333333     0.0  \n",
       "std       3.149570     9.416338    16.963140     0.0  \n",
       "min     -21.120917   -35.120723     2.000000     0.0  \n",
       "25%      -1.862237    -5.090220    17.000000     0.0  \n",
       "50%      -0.387182     1.248965    34.000000     0.0  \n",
       "75%       1.295315     7.879274    50.000000     0.0  \n",
       "max      25.532045    33.427154    59.000000     0.0  "
      ]
     },
     "execution_count": 2,
     "metadata": {},
     "output_type": "execute_result"
    }
   ],
   "source": [
    "# Collect normalised data for alert class \n",
    "df_alert = pd.read_csv('normalised_alert.csv', index_col=None, header=0)\n",
    "# Describe features distributions\n",
    "df_alert.describe()"
   ]
  },
  {
   "cell_type": "code",
   "execution_count": 3,
   "metadata": {
    "tags": []
   },
   "outputs": [
    {
     "name": "stdout",
     "output_type": "stream",
     "text": [
      "27 Subjects\n"
     ]
    },
    {
     "data": {
      "text/html": [
       "<div>\n",
       "<style scoped>\n",
       "    .dataframe tbody tr th:only-of-type {\n",
       "        vertical-align: middle;\n",
       "    }\n",
       "\n",
       "    .dataframe tbody tr th {\n",
       "        vertical-align: top;\n",
       "    }\n",
       "\n",
       "    .dataframe thead th {\n",
       "        text-align: right;\n",
       "    }\n",
       "</style>\n",
       "<table border=\"1\" class=\"dataframe\">\n",
       "  <thead>\n",
       "    <tr style=\"text-align: right;\">\n",
       "      <th></th>\n",
       "      <th>EAR</th>\n",
       "      <th>MAR</th>\n",
       "      <th>CIR</th>\n",
       "      <th>MOE</th>\n",
       "      <th>PITCH</th>\n",
       "      <th>ROLL</th>\n",
       "      <th>YAW</th>\n",
       "      <th>Subject</th>\n",
       "      <th>Label</th>\n",
       "    </tr>\n",
       "  </thead>\n",
       "  <tbody>\n",
       "    <tr>\n",
       "      <th>0</th>\n",
       "      <td>-0.550721</td>\n",
       "      <td>-1.023081</td>\n",
       "      <td>-0.524465</td>\n",
       "      <td>-0.980054</td>\n",
       "      <td>-9.285217</td>\n",
       "      <td>3.778707</td>\n",
       "      <td>-14.842664</td>\n",
       "      <td>2</td>\n",
       "      <td>0</td>\n",
       "    </tr>\n",
       "    <tr>\n",
       "      <th>1</th>\n",
       "      <td>1.154297</td>\n",
       "      <td>0.047883</td>\n",
       "      <td>1.153132</td>\n",
       "      <td>-0.038766</td>\n",
       "      <td>-12.513995</td>\n",
       "      <td>3.902266</td>\n",
       "      <td>-12.958471</td>\n",
       "      <td>2</td>\n",
       "      <td>0</td>\n",
       "    </tr>\n",
       "    <tr>\n",
       "      <th>2</th>\n",
       "      <td>-0.603576</td>\n",
       "      <td>0.975199</td>\n",
       "      <td>-0.628667</td>\n",
       "      <td>1.018819</td>\n",
       "      <td>-11.132252</td>\n",
       "      <td>4.199708</td>\n",
       "      <td>-13.745930</td>\n",
       "      <td>2</td>\n",
       "      <td>0</td>\n",
       "    </tr>\n",
       "    <tr>\n",
       "      <th>3</th>\n",
       "      <td>23.810252</td>\n",
       "      <td>0.465684</td>\n",
       "      <td>0.173800</td>\n",
       "      <td>-1.259177</td>\n",
       "      <td>-9.079930</td>\n",
       "      <td>3.509181</td>\n",
       "      <td>-13.497998</td>\n",
       "      <td>2</td>\n",
       "      <td>0</td>\n",
       "    </tr>\n",
       "    <tr>\n",
       "      <th>4</th>\n",
       "      <td>48.250473</td>\n",
       "      <td>1.182332</td>\n",
       "      <td>3.115115</td>\n",
       "      <td>-2.219004</td>\n",
       "      <td>-9.038324</td>\n",
       "      <td>3.384242</td>\n",
       "      <td>-13.386110</td>\n",
       "      <td>2</td>\n",
       "      <td>0</td>\n",
       "    </tr>\n",
       "  </tbody>\n",
       "</table>\n",
       "</div>"
      ],
      "text/plain": [
       "         EAR       MAR       CIR       MOE      PITCH      ROLL        YAW  \\\n",
       "0  -0.550721 -1.023081 -0.524465 -0.980054  -9.285217  3.778707 -14.842664   \n",
       "1   1.154297  0.047883  1.153132 -0.038766 -12.513995  3.902266 -12.958471   \n",
       "2  -0.603576  0.975199 -0.628667  1.018819 -11.132252  4.199708 -13.745930   \n",
       "3  23.810252  0.465684  0.173800 -1.259177  -9.079930  3.509181 -13.497998   \n",
       "4  48.250473  1.182332  3.115115 -2.219004  -9.038324  3.384242 -13.386110   \n",
       "\n",
       "   Subject  Label  \n",
       "0        2      0  \n",
       "1        2      0  \n",
       "2        2      0  \n",
       "3        2      0  \n",
       "4        2      0  "
      ]
     },
     "execution_count": 3,
     "metadata": {},
     "output_type": "execute_result"
    }
   ],
   "source": [
    "# print first five rows of the dataframe and get the total number of subjects.\n",
    "Total_subjects = len(df_alert['Subject'].value_counts())\n",
    "print('{0} Subjects'.format(Total_subjects))\n",
    "df_alert.head()"
   ]
  },
  {
   "cell_type": "code",
   "execution_count": 4,
   "metadata": {},
   "outputs": [
    {
     "data": {
      "text/html": [
       "<div>\n",
       "<style scoped>\n",
       "    .dataframe tbody tr th:only-of-type {\n",
       "        vertical-align: middle;\n",
       "    }\n",
       "\n",
       "    .dataframe tbody tr th {\n",
       "        vertical-align: top;\n",
       "    }\n",
       "\n",
       "    .dataframe thead th {\n",
       "        text-align: right;\n",
       "    }\n",
       "</style>\n",
       "<table border=\"1\" class=\"dataframe\">\n",
       "  <thead>\n",
       "    <tr style=\"text-align: right;\">\n",
       "      <th></th>\n",
       "      <th>EAR</th>\n",
       "      <th>MAR</th>\n",
       "      <th>CIR</th>\n",
       "      <th>MOE</th>\n",
       "      <th>PITCH</th>\n",
       "      <th>ROLL</th>\n",
       "      <th>YAW</th>\n",
       "      <th>Subject</th>\n",
       "      <th>Label</th>\n",
       "    </tr>\n",
       "  </thead>\n",
       "  <tbody>\n",
       "    <tr>\n",
       "      <th>count</th>\n",
       "      <td>6480.000000</td>\n",
       "      <td>6480.000000</td>\n",
       "      <td>6480.000000</td>\n",
       "      <td>6480.000000</td>\n",
       "      <td>6480.000000</td>\n",
       "      <td>6480.000000</td>\n",
       "      <td>6480.000000</td>\n",
       "      <td>6480.000000</td>\n",
       "      <td>6480.0</td>\n",
       "    </tr>\n",
       "    <tr>\n",
       "      <th>mean</th>\n",
       "      <td>-7.099157</td>\n",
       "      <td>3.468018</td>\n",
       "      <td>-4.124292</td>\n",
       "      <td>10.009002</td>\n",
       "      <td>-8.138030</td>\n",
       "      <td>-0.047372</td>\n",
       "      <td>3.558490</td>\n",
       "      <td>32.333333</td>\n",
       "      <td>1.0</td>\n",
       "    </tr>\n",
       "    <tr>\n",
       "      <th>std</th>\n",
       "      <td>17.899604</td>\n",
       "      <td>10.827417</td>\n",
       "      <td>11.261823</td>\n",
       "      <td>19.511272</td>\n",
       "      <td>8.507008</td>\n",
       "      <td>4.639051</td>\n",
       "      <td>9.931154</td>\n",
       "      <td>16.963140</td>\n",
       "      <td>0.0</td>\n",
       "    </tr>\n",
       "    <tr>\n",
       "      <th>min</th>\n",
       "      <td>-315.664612</td>\n",
       "      <td>-41.875322</td>\n",
       "      <td>-77.077666</td>\n",
       "      <td>-21.952335</td>\n",
       "      <td>-85.246005</td>\n",
       "      <td>-26.270791</td>\n",
       "      <td>-64.260677</td>\n",
       "      <td>2.000000</td>\n",
       "      <td>1.0</td>\n",
       "    </tr>\n",
       "    <tr>\n",
       "      <th>25%</th>\n",
       "      <td>-7.259599</td>\n",
       "      <td>-1.001812</td>\n",
       "      <td>-3.680614</td>\n",
       "      <td>0.838760</td>\n",
       "      <td>-13.026784</td>\n",
       "      <td>-2.339298</td>\n",
       "      <td>-3.009269</td>\n",
       "      <td>17.000000</td>\n",
       "      <td>1.0</td>\n",
       "    </tr>\n",
       "    <tr>\n",
       "      <th>50%</th>\n",
       "      <td>-2.340936</td>\n",
       "      <td>2.065839</td>\n",
       "      <td>-1.453586</td>\n",
       "      <td>3.543817</td>\n",
       "      <td>-7.983333</td>\n",
       "      <td>0.103359</td>\n",
       "      <td>3.097460</td>\n",
       "      <td>34.000000</td>\n",
       "      <td>1.0</td>\n",
       "    </tr>\n",
       "    <tr>\n",
       "      <th>75%</th>\n",
       "      <td>-0.173233</td>\n",
       "      <td>6.236195</td>\n",
       "      <td>0.161230</td>\n",
       "      <td>9.563593</td>\n",
       "      <td>-2.169844</td>\n",
       "      <td>2.344953</td>\n",
       "      <td>8.871614</td>\n",
       "      <td>50.000000</td>\n",
       "      <td>1.0</td>\n",
       "    </tr>\n",
       "    <tr>\n",
       "      <th>max</th>\n",
       "      <td>70.978399</td>\n",
       "      <td>101.403600</td>\n",
       "      <td>32.682321</td>\n",
       "      <td>267.938715</td>\n",
       "      <td>36.700000</td>\n",
       "      <td>30.800000</td>\n",
       "      <td>41.070155</td>\n",
       "      <td>59.000000</td>\n",
       "      <td>1.0</td>\n",
       "    </tr>\n",
       "  </tbody>\n",
       "</table>\n",
       "</div>"
      ],
      "text/plain": [
       "               EAR          MAR          CIR          MOE        PITCH  \\\n",
       "count  6480.000000  6480.000000  6480.000000  6480.000000  6480.000000   \n",
       "mean     -7.099157     3.468018    -4.124292    10.009002    -8.138030   \n",
       "std      17.899604    10.827417    11.261823    19.511272     8.507008   \n",
       "min    -315.664612   -41.875322   -77.077666   -21.952335   -85.246005   \n",
       "25%      -7.259599    -1.001812    -3.680614     0.838760   -13.026784   \n",
       "50%      -2.340936     2.065839    -1.453586     3.543817    -7.983333   \n",
       "75%      -0.173233     6.236195     0.161230     9.563593    -2.169844   \n",
       "max      70.978399   101.403600    32.682321   267.938715    36.700000   \n",
       "\n",
       "              ROLL          YAW      Subject   Label  \n",
       "count  6480.000000  6480.000000  6480.000000  6480.0  \n",
       "mean     -0.047372     3.558490    32.333333     1.0  \n",
       "std       4.639051     9.931154    16.963140     0.0  \n",
       "min     -26.270791   -64.260677     2.000000     1.0  \n",
       "25%      -2.339298    -3.009269    17.000000     1.0  \n",
       "50%       0.103359     3.097460    34.000000     1.0  \n",
       "75%       2.344953     8.871614    50.000000     1.0  \n",
       "max      30.800000    41.070155    59.000000     1.0  "
      ]
     },
     "execution_count": 4,
     "metadata": {},
     "output_type": "execute_result"
    }
   ],
   "source": [
    "# Collect normalised data for drowsy class\n",
    "df_drowsy = pd.read_csv('normalised_drowsy.csv', index_col=None, header= 0)\n",
    "# Describe features distributions\n",
    "df_drowsy.describe()"
   ]
  },
  {
   "cell_type": "code",
   "execution_count": 5,
   "metadata": {
    "tags": []
   },
   "outputs": [
    {
     "name": "stdout",
     "output_type": "stream",
     "text": [
      "27 Subjects\n"
     ]
    },
    {
     "data": {
      "text/html": [
       "<div>\n",
       "<style scoped>\n",
       "    .dataframe tbody tr th:only-of-type {\n",
       "        vertical-align: middle;\n",
       "    }\n",
       "\n",
       "    .dataframe tbody tr th {\n",
       "        vertical-align: top;\n",
       "    }\n",
       "\n",
       "    .dataframe thead th {\n",
       "        text-align: right;\n",
       "    }\n",
       "</style>\n",
       "<table border=\"1\" class=\"dataframe\">\n",
       "  <thead>\n",
       "    <tr style=\"text-align: right;\">\n",
       "      <th></th>\n",
       "      <th>EAR</th>\n",
       "      <th>MAR</th>\n",
       "      <th>CIR</th>\n",
       "      <th>MOE</th>\n",
       "      <th>PITCH</th>\n",
       "      <th>ROLL</th>\n",
       "      <th>YAW</th>\n",
       "      <th>Subject</th>\n",
       "      <th>Label</th>\n",
       "    </tr>\n",
       "  </thead>\n",
       "  <tbody>\n",
       "    <tr>\n",
       "      <th>0</th>\n",
       "      <td>-29.622914</td>\n",
       "      <td>5.120415</td>\n",
       "      <td>0.396596</td>\n",
       "      <td>7.798019</td>\n",
       "      <td>-16.188460</td>\n",
       "      <td>0.159043</td>\n",
       "      <td>-3.683589</td>\n",
       "      <td>2</td>\n",
       "      <td>1</td>\n",
       "    </tr>\n",
       "    <tr>\n",
       "      <th>1</th>\n",
       "      <td>-35.251043</td>\n",
       "      <td>4.235603</td>\n",
       "      <td>-0.206001</td>\n",
       "      <td>7.398498</td>\n",
       "      <td>-16.487110</td>\n",
       "      <td>1.110645</td>\n",
       "      <td>-6.274052</td>\n",
       "      <td>2</td>\n",
       "      <td>1</td>\n",
       "    </tr>\n",
       "    <tr>\n",
       "      <th>2</th>\n",
       "      <td>1.654082</td>\n",
       "      <td>5.287541</td>\n",
       "      <td>0.211370</td>\n",
       "      <td>5.130980</td>\n",
       "      <td>-17.017663</td>\n",
       "      <td>1.308164</td>\n",
       "      <td>-7.108814</td>\n",
       "      <td>2</td>\n",
       "      <td>1</td>\n",
       "    </tr>\n",
       "    <tr>\n",
       "      <th>3</th>\n",
       "      <td>14.047786</td>\n",
       "      <td>4.282553</td>\n",
       "      <td>1.069328</td>\n",
       "      <td>3.127476</td>\n",
       "      <td>-16.135447</td>\n",
       "      <td>1.050373</td>\n",
       "      <td>-6.417516</td>\n",
       "      <td>2</td>\n",
       "      <td>1</td>\n",
       "    </tr>\n",
       "    <tr>\n",
       "      <th>4</th>\n",
       "      <td>-106.122230</td>\n",
       "      <td>4.933330</td>\n",
       "      <td>-2.530253</td>\n",
       "      <td>16.437625</td>\n",
       "      <td>-15.150283</td>\n",
       "      <td>0.244006</td>\n",
       "      <td>-5.177332</td>\n",
       "      <td>2</td>\n",
       "      <td>1</td>\n",
       "    </tr>\n",
       "  </tbody>\n",
       "</table>\n",
       "</div>"
      ],
      "text/plain": [
       "          EAR       MAR       CIR        MOE      PITCH      ROLL       YAW  \\\n",
       "0  -29.622914  5.120415  0.396596   7.798019 -16.188460  0.159043 -3.683589   \n",
       "1  -35.251043  4.235603 -0.206001   7.398498 -16.487110  1.110645 -6.274052   \n",
       "2    1.654082  5.287541  0.211370   5.130980 -17.017663  1.308164 -7.108814   \n",
       "3   14.047786  4.282553  1.069328   3.127476 -16.135447  1.050373 -6.417516   \n",
       "4 -106.122230  4.933330 -2.530253  16.437625 -15.150283  0.244006 -5.177332   \n",
       "\n",
       "   Subject  Label  \n",
       "0        2      1  \n",
       "1        2      1  \n",
       "2        2      1  \n",
       "3        2      1  \n",
       "4        2      1  "
      ]
     },
     "execution_count": 5,
     "metadata": {},
     "output_type": "execute_result"
    }
   ],
   "source": [
    "# print first five rows of the dataframe and get the total number of subjects.\n",
    "Total_subjects = len(df_drowsy['Subject'].value_counts())\n",
    "print('{0} Subjects'.format(Total_subjects))\n",
    "df_drowsy.head()"
   ]
  },
  {
   "cell_type": "markdown",
   "metadata": {},
   "source": [
    "### Spliting data into train and test sets."
   ]
  },
  {
   "cell_type": "code",
   "execution_count": 8,
   "metadata": {
    "tags": []
   },
   "outputs": [
    {
     "name": "stdout",
     "output_type": "stream",
     "text": [
      "Total subjects in train set: 20\n",
      "Total subjects in test set: 7\n"
     ]
    }
   ],
   "source": [
    "# aggregate entire data based on subject number to randomly shuffle subjects\n",
    "df = pd.concat([df_alert, df_drowsy], axis=0, join='inner', ignore_index=True)\n",
    "groups = [df for _, df in df.groupby('Subject')]\n",
    "random.shuffle(groups)\n",
    "df = pd.concat(groups).reset_index(drop=True)\n",
    "\n",
    "# Setting train and test index to split data into roughly 3:1 ratio for train and test respectively.\n",
    "train_index = 9600\n",
    "test_index = len(df)-train_index\n",
    "df_train = df[:train_index]\n",
    "df_test = df[-test_index:]\n",
    "\n",
    "# print total number of subjects in both train and test data\n",
    "Total_subjects = len(df_train['Subject'].value_counts())\n",
    "print('Total subjects in train set: {0}'.format(Total_subjects))\n",
    "Total_subjects = len(df_test['Subject'].value_counts())\n",
    "print('Total subjects in test set: {0}'.format(Total_subjects))"
   ]
  },
  {
   "cell_type": "code",
   "execution_count": 10,
   "metadata": {
    "tags": []
   },
   "outputs": [
    {
     "name": "stdout",
     "output_type": "stream",
     "text": [
      "(9600, 7) (9600,)\n",
      "(3360, 7) (3360,)\n"
     ]
    }
   ],
   "source": [
    "# get features matrix and labels vector for both train and test data\n",
    "X_train = df_train[['EAR', 'MAR', 'CIR', 'MOE', 'PITCH', 'ROLL', 'YAW']]\n",
    "y_train = df_train['Label']\n",
    "print(X_train.shape, y_train.shape)\n",
    "\n",
    "X_test = df_test[['EAR', 'MAR', 'CIR', 'MOE', 'PITCH', 'ROLL', 'YAW']]\n",
    "y_test = df_test[\"Label\"]\n",
    "print(X_test.shape, y_test.shape)"
   ]
  },
  {
   "cell_type": "markdown",
   "metadata": {},
   "source": [
    "### Required functions for optimization and evaluation"
   ]
  },
  {
   "cell_type": "code",
   "execution_count": 11,
   "metadata": {},
   "outputs": [],
   "source": [
    "# few functions to optimize and evaluate trained models.\n",
    "# --best_parameters\n",
    "# --average\n",
    "# --roc_values\n",
    "# --confusion_matrices\n",
    "# --clf_report\n",
    "\n",
    "def best_parameters(clf_grid, param1, param2):\n",
    "    '''This function computes the train and cross-validation score for pair of hyperparameters.'''\n",
    "    \n",
    "    train_auc = clf_grid.cv_results_['mean_train_score']\n",
    "    cv_auc = clf_grid.cv_results_['mean_test_score']\n",
    "    \n",
    "    # Create a dataframe to be used for heat-map\n",
    "    hyperparameters = clf_grid.cv_results_[\"params\"]\n",
    "    df = pd.DataFrame(hyperparameters)\n",
    "    df['mean_test_score'] = cv_auc\n",
    "    df['mean_train_score'] = train_auc\n",
    "\n",
    "    # Heat-map for train and cv auc values.\n",
    "    pivot_train = df.pivot(index = param1, columns = param2, values = 'mean_train_score')\n",
    "    pivot_cv = df.pivot(index = param1, columns = param2, values = 'mean_test_score')\n",
    "    fig, (ax1, ax2) = plt.subplots(1,2, figsize=(14,6))\n",
    "    ax1.set_title('Accuracy on Train Data ')\n",
    "    ax2.set_title('Accuracy on CV Data')\n",
    "    sns.heatmap(pivot_train, annot=True, ax=ax1)\n",
    "    sns.heatmap(pivot_cv, annot=True, ax=ax2)\n",
    "    return plt.show()\n",
    "\n",
    "def average(y_pred):\n",
    "    '''This function computes sequential predition i.e. average of three sequential predctions'''\n",
    "    \n",
    "    for i in range(len(y_pred)):\n",
    "        if i % 60 == 0 or (i+1) % 60 == 0:\n",
    "            pass\n",
    "        else:\n",
    "            average = float(y_pred[i-1] +  y_pred[i] + y_pred[i+1])/3\n",
    "            if average >= 0.5:\n",
    "                y_pred[i] = 1\n",
    "            else:\n",
    "                y_pred[i] = 0\n",
    "    return y_pred  \n",
    "\n",
    "def roc_values(clf):\n",
    "    '''This function plots the ROC curve for both train and test data with correponding auc values'''\n",
    "    \n",
    "    y_test_predicted_prob = clf.predict_proba(X_test)[:,1]\n",
    "    y_test_predicted_prob = average(y_test_predicted_prob)\n",
    "    y_train_predicted_prob = clf.predict_proba(X_train)[:,1]\n",
    "    y_train_predicted_prob = average(y_train_predicted_prob)\n",
    "\n",
    "    # ROC and AUC value on train data\n",
    "    plt.figure(figsize=(7,6))\n",
    "    fpr, tpr, threshold = roc_curve(y_train, y_train_predicted_prob)\n",
    "    roc_auc_train = metrics.auc(fpr, tpr)\n",
    "    plt.plot(fpr, tpr, 'r', label = 'Train AUC = %0.2f' % roc_auc_train)\n",
    "    plt.legend(loc = 'lower right')\n",
    "    # ROC and AUC value on test data\n",
    "    fpr, tpr, threshold = roc_curve(y_test, y_test_predicted_prob)\n",
    "    roc_auc_test = metrics.auc(fpr, tpr)\n",
    "    plt.plot(fpr, tpr, 'g', label = 'Test AUC = %0.2f' % roc_auc_test)\n",
    "    plt.legend(loc = 'lower right')\n",
    "\n",
    "    plt.plot([0, 1], [0, 1],'b--')\n",
    "    plt.title('ROC for Train and CV Data', size = 15)\n",
    "    plt.xlim([0, 1])\n",
    "    plt.ylim([0, 1])\n",
    "    plt.ylabel('True Positive Rate')\n",
    "    plt.xlabel('False Positive Rate')\n",
    "    return plt.show()\n",
    "\n",
    "def confusion_matrices(clf):\n",
    "    '''This function plots the confusion metrices for both train and test data'''\n",
    "    \n",
    "    y_test_predicted = clf.predict(X_test)\n",
    "    y_test_predicted = average(y_test_predicted)\n",
    "    y_train_predicted = clf.predict(X_train)\n",
    "    y_train_predicted = average(y_train_predicted)\n",
    "    \n",
    "    # plot confusion matrix on train data\n",
    "    fig = plt.figure(figsize=(12,5))\n",
    "    ax1 = fig.add_subplot(121)\n",
    "    ax1.title.set_text('Confusion matrix on Train data')\n",
    "    conf_matrix_train = confusion_matrix(y_train, y_train_predicted)\n",
    "    class_label = ['negative', 'positive']\n",
    "    df_conf_matrix = pd.DataFrame(conf_matrix_train, index=class_label, columns=class_label)\n",
    "    sb.heatmap(df_conf_matrix, annot=True, fmt='d')\n",
    "    # plot confusion matrix on test data\n",
    "    ax2 = fig.add_subplot(122)\n",
    "    ax2.title.set_text('Confusion matrix on Test data')\n",
    "    conf_matrix_test = confusion_matrix(y_test, y_test_predicted)\n",
    "    df_conf_matrix = pd.DataFrame(conf_matrix_test, index=class_label, columns=class_label)\n",
    "    sb.heatmap(df_conf_matrix, annot=True, fmt='d')\n",
    "    return plt.show() \n",
    "\n",
    "def clf_report(clf):\n",
    "    ''' This function computes accuracy, f1_score, recall and precision on test data'''\n",
    "    \n",
    "    y_test_predicted = clf.predict(X_test)\n",
    "    y_test_predicted = average(y_test_predicted)\n",
    "       \n",
    "    # Model Accuracy: how often is the classifier correct?\n",
    "    print(\"Accuracy:\",metrics.accuracy_score(y_test, y_test_predicted))\n",
    "    # Model Precision: what percentage of positive tuples are labeled as such?\n",
    "    print(\"Precision:\",metrics.precision_score(y_test, y_test_predicted))\n",
    "    # Model Recall: what percentage of positive tuples are labelled as such?\n",
    "    print(\"Recall:\",metrics.recall_score(y_test, y_test_predicted))\n",
    "    # Model Recall: what percentage of positive tuples are labelled as such?\n",
    "    print(\"F1_score:\",metrics.f1_score(y_test, y_test_predicted))"
   ]
  },
  {
   "cell_type": "markdown",
   "metadata": {},
   "source": [
    "## Support Vector Machines"
   ]
  },
  {
   "cell_type": "markdown",
   "metadata": {},
   "source": [
    "### Training"
   ]
  },
  {
   "cell_type": "code",
   "execution_count": 12,
   "metadata": {
    "scrolled": true
   },
   "outputs": [
    {
     "name": "stdout",
     "output_type": "stream",
     "text": [
      "Wall time: 14min 7s\n",
      "Best Parameters :\n",
      " SVC(C=50, break_ties=False, cache_size=200, class_weight=None, coef0=0.0,\n",
      "    decision_function_shape='ovr', degree=3, gamma=0.01, kernel='rbf',\n",
      "    max_iter=-1, probability=True, random_state=None, shrinking=True, tol=0.001,\n",
      "    verbose=False)\n"
     ]
    }
   ],
   "source": [
    "# using GridsearCV and Stratified K-fold cross validation for hyperparameter tuning\n",
    "param_grid = {'C': [.1, 1, 25, 50],  \n",
    "              'gamma': [.001, .01, .1, 1]}  \n",
    "\n",
    "classifier = SVC(kernel = 'rbf', probability=True)   ## initiating SVC classifier with rbf kernel\n",
    "\n",
    "cv = RepeatedStratifiedKFold(n_splits=5, n_repeats=3, random_state=1)\n",
    "clf_grid1 = GridSearchCV(classifier, param_grid=param_grid, cv = cv,\n",
    "                        n_jobs=-1, scoring='accuracy', refit=True, return_train_score=True)\n",
    "\n",
    "%time clf_grid1.fit(X_train, y_train)\n",
    "print(\"Best Parameters :\\n\",clf_grid1.best_estimator_)"
   ]
  },
  {
   "cell_type": "code",
   "execution_count": 13,
   "metadata": {},
   "outputs": [
    {
     "data": {
      "image/png": "[encoded data removed]",
      "text/plain": [
       "<Figure size 1008x432 with 4 Axes>"
      ]
     },
     "metadata": {
      "needs_background": "light"
     },
     "output_type": "display_data"
    }
   ],
   "source": [
    "# visualize the score of train and validation sets for different combinations of the parameters\n",
    "best_parameters(clf_grid1, 'C', 'gamma')"
   ]
  },
  {
   "cell_type": "code",
   "execution_count": 13,
   "metadata": {
    "tags": []
   },
   "outputs": [
    {
     "name": "stdout",
     "output_type": "stream",
     "text": [
      "Wall time: 21 s\n"
     ]
    },
    {
     "data": {
      "text/plain": [
       "SVC(C=50, break_ties=False, cache_size=200, class_weight=None, coef0=0.0,\n",
       "    decision_function_shape='ovr', degree=3, gamma=0.1, kernel='rbf',\n",
       "    max_iter=-1, probability=True, random_state=None, shrinking=True, tol=0.001,\n",
       "    verbose=False)"
      ]
     },
     "execution_count": 13,
     "metadata": {},
     "output_type": "execute_result"
    }
   ],
   "source": [
    "# Fit Sklearn implemented SVC Classifier with optimal value.\n",
    "clf1 = SVC(C=50, gamma=.1, kernel='rbf', probability=True)\n",
    "# fit the MLP instance with train data and labels\n",
    "%time clf1.fit(X_train, y_train)"
   ]
  },
  {
   "cell_type": "markdown",
   "metadata": {},
   "source": [
    "### Evaluation"
   ]
  },
  {
   "cell_type": "code",
   "execution_count": 14,
   "metadata": {},
   "outputs": [
    {
     "data": {
      "image/png": "[encoded data removed]",
      "text/plain": [
       "<Figure size 504x432 with 1 Axes>"
      ]
     },
     "metadata": {
      "needs_background": "light"
     },
     "output_type": "display_data"
    }
   ],
   "source": [
    "# compute ROC curve and AUC value for both train and test data\n",
    "roc_values(clf1)"
   ]
  },
  {
   "cell_type": "code",
   "execution_count": 15,
   "metadata": {},
   "outputs": [
    {
     "data": {
      "image/png": "[encoded data removed]",
      "text/plain": [
       "<Figure size 864x360 with 4 Axes>"
      ]
     },
     "metadata": {
      "needs_background": "light"
     },
     "output_type": "display_data"
    }
   ],
   "source": [
    "# Visualize TP,TN,FP,FN rates for both train and test data\n",
    "confusion_matrices(clf1)"
   ]
  },
  {
   "cell_type": "code",
   "execution_count": 16,
   "metadata": {},
   "outputs": [
    {
     "name": "stdout",
     "output_type": "stream",
     "text": [
      "Accuracy: 0.737202380952381\n",
      "Precision: 0.6682144364710848\n",
      "Recall: 0.9422619047619047\n",
      "F1_score: 0.7819214620894047\n"
     ]
    }
   ],
   "source": [
    "# get accuracy, precision, recall and f1_score of the model on test data\n",
    "clf_report(clf1)"
   ]
  },
  {
   "cell_type": "markdown",
   "metadata": {},
   "source": [
    "## Multi-Layer Perceptron"
   ]
  },
  {
   "cell_type": "markdown",
   "metadata": {},
   "source": [
    "### Training"
   ]
  },
  {
   "cell_type": "code",
   "execution_count": 17,
   "metadata": {},
   "outputs": [
    {
     "name": "stdout",
     "output_type": "stream",
     "text": [
      "Wall time: 16min 3s\n",
      "Best Parameters :\n",
      " MLPClassifier(activation='logistic', alpha=0.0001, batch_size='auto',\n",
      "              beta_1=0.9, beta_2=0.999, early_stopping=False, epsilon=1e-08,\n",
      "              hidden_layer_sizes=150, learning_rate='constant',\n",
      "              learning_rate_init=0.001, max_fun=15000, max_iter=1000,\n",
      "              momentum=0.9, n_iter_no_change=10, nesterovs_momentum=True,\n",
      "              power_t=0.5, random_state=None, shuffle=True, solver='adam',\n",
      "              tol=0.0001, validation_fraction=0.1, verbose=False,\n",
      "              warm_start=False)\n"
     ]
    }
   ],
   "source": [
    "# using GridsearCV and Stratified K-fold cross validation for hyperparameter tuning\n",
    "\n",
    "param_grid = {'hidden_layer_sizes': [1, 10, 100, 150],  \n",
    "              'activation': ['logistic','tanh','relu']}\n",
    "#              'solver': ['sgd','adam','lbfgs']} \n",
    "\n",
    "classifier = MLPClassifier(max_iter = 1000)  ## initiating multi layer perceptron classifier\n",
    "\n",
    "clf_grid2 = GridSearchCV( classifier, param_grid=param_grid, cv = cv,\n",
    "                        n_jobs=-1, scoring='accuracy', refit=True, return_train_score=True)\n",
    "\n",
    "%time clf_grid2.fit(X_train, y_train)\n",
    "print(\"Best Parameters :\\n\",clf_grid2.best_estimator_)"
   ]
  },
  {
   "cell_type": "code",
   "execution_count": 18,
   "metadata": {},
   "outputs": [
    {
     "data": {
      "image/png": "[encoded data removed]",
      "text/plain": [
       "<Figure size 1008x432 with 4 Axes>"
      ]
     },
     "metadata": {
      "needs_background": "light"
     },
     "output_type": "display_data"
    }
   ],
   "source": [
    "# visualize the score of train and validation sets for different combinations of the parameters\n",
    "best_parameters(clf_grid2, 'hidden_layer_sizes', 'activation')"
   ]
  },
  {
   "cell_type": "code",
   "execution_count": 19,
   "metadata": {
    "tags": []
   },
   "outputs": [
    {
     "name": "stdout",
     "output_type": "stream",
     "text": [
      "Wall time: 29.9 s\n"
     ]
    },
    {
     "name": "stderr",
     "output_type": "stream",
     "text": [
      "C:\\Users\\Pradeep\\anaconda3\\lib\\site-packages\\sklearn\\neural_network\\_multilayer_perceptron.py:571: ConvergenceWarning: Stochastic Optimizer: Maximum iterations (200) reached and the optimization hasn't converged yet.\n",
      "  % self.max_iter, ConvergenceWarning)\n"
     ]
    },
    {
     "data": {
      "text/plain": [
       "MLPClassifier(activation='tanh', alpha=0.0001, batch_size='auto', beta_1=0.9,\n",
       "              beta_2=0.999, early_stopping=False, epsilon=1e-08,\n",
       "              hidden_layer_sizes=150, learning_rate='constant',\n",
       "              learning_rate_init=0.001, max_fun=15000, max_iter=200,\n",
       "              momentum=0.9, n_iter_no_change=10, nesterovs_momentum=True,\n",
       "              power_t=0.5, random_state=None, shuffle=True, solver='sgd',\n",
       "              tol=0.0001, validation_fraction=0.1, verbose=False,\n",
       "              warm_start=False)"
      ]
     },
     "execution_count": 19,
     "metadata": {},
     "output_type": "execute_result"
    }
   ],
   "source": [
    "# Fit Sklearn implemented MLP Classifier with optimal parameters.\n",
    "clf2 = MLPClassifier(hidden_layer_sizes = 150, activation = 'tanh', solver = 'sgd' )\n",
    "# fit the MLP instance with train data and labels\n",
    "%time clf2.fit(X_train, y_train)"
   ]
  },
  {
   "cell_type": "markdown",
   "metadata": {},
   "source": [
    "### Evaluation"
   ]
  },
  {
   "cell_type": "code",
   "execution_count": 20,
   "metadata": {},
   "outputs": [
    {
     "data": {
      "image/png": "[encoded data removed]",
      "text/plain": [
       "<Figure size 504x432 with 1 Axes>"
      ]
     },
     "metadata": {
      "needs_background": "light"
     },
     "output_type": "display_data"
    }
   ],
   "source": [
    "# compute ROC curve and AUC value for both train and test data\n",
    "roc_values(clf2)"
   ]
  },
  {
   "cell_type": "code",
   "execution_count": 21,
   "metadata": {},
   "outputs": [
    {
     "data": {
      "image/png": "[encoded data removed]",
      "text/plain": [
       "<Figure size 864x360 with 4 Axes>"
      ]
     },
     "metadata": {
      "needs_background": "light"
     },
     "output_type": "display_data"
    }
   ],
   "source": [
    "# Visualize TP,TN,FP,FN rates for both train and test data\n",
    "confusion_matrices(clf2)"
   ]
  },
  {
   "cell_type": "code",
   "execution_count": 22,
   "metadata": {
    "tags": []
   },
   "outputs": [
    {
     "name": "stdout",
     "output_type": "stream",
     "text": [
      "Accuracy: 0.8041666666666667\n",
      "Precision: 0.8471467391304348\n",
      "Recall: 0.7422619047619048\n",
      "F1_score: 0.791243654822335\n"
     ]
    }
   ],
   "source": [
    "# get accuracy, precision, recall and f1_score of the model on test data\n",
    "clf_report(clf2)"
   ]
  }
 ],
 "metadata": {
  "kernelspec": {
   "display_name": "Python 3",
   "language": "python",
   "name": "python3"
  },
  "language_info": {
   "codemirror_mode": {
    "name": "ipython",
    "version": 3
   },
   "file_extension": ".py",
   "mimetype": "text/x-python",
   "name": "python",
   "nbconvert_exporter": "python",
   "pygments_lexer": "ipython3",
   "version": "3.7.7"
  }
 },
 "nbformat": 4,
 "nbformat_minor": 4
}
